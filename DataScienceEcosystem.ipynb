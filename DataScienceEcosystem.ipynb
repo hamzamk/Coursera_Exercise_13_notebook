{
 "cells": [
  {
   "cell_type": "markdown",
   "id": "7824f935-4d03-4873-8e40-8cbd3393af30",
   "metadata": {
    "tags": []
   },
   "source": [
    "<center>\n",
    "    <img src=\"https://cf-courses-data.s3.us.cloud-object-storage.appdomain.cloud/IBMDeveloperSkillsNetwork-DS0105EN-SkillsNetwork/labs/Module2/images/SN_web_lightmode.png\" width=\"300\" alt=\"cognitiveclass.ai logo\">\n",
    "</center>"
   ]
  },
  {
   "cell_type": "markdown",
   "id": "8c40f3b3-b514-4e62-a445-c8df3d8186ac",
   "metadata": {},
   "source": [
    "#### Add your code below following the instructions given in the course\n"
   ]
  },
  {
   "cell_type": "markdown",
   "id": "7be101e7-b757-47d4-bcb7-298222e14661",
   "metadata": {
    "tags": []
   },
   "source": [
    "<h1>Data Science Tools and Ecosystem</h1>"
   ]
  },
  {
   "cell_type": "markdown",
   "id": "60eb0c43-113f-4e16-8a2c-cfbdd1ef3079",
   "metadata": {
    "tags": []
   },
   "source": [
    "In this notebook, Data Science Tools and Ecosystem are summarized."
   ]
  },
  {
   "cell_type": "markdown",
   "id": "0b9ce3bf-b3e0-4704-8310-d2e57f24a0e7",
   "metadata": {
    "tags": []
   },
   "source": [
    "Some of the popular languages that Data Scientists use are:\n",
    "<ol>\n",
    "    <li>Python</li>\n",
    "    <li>R</li>\n",
    "    <li>Scala</li>\n",
    "    <li>Java</li>\n",
    "</ol>\n"
   ]
  },
  {
   "cell_type": "markdown",
   "id": "2517ee61-4d57-48c3-a2c0-0f5a8b1646f7",
   "metadata": {
    "tags": []
   },
   "source": [
    "Some of the commonly used libraries used by Data Scientists include:\n",
    "<ol>\n",
    "    <li>Pandas</li>\n",
    "    <li>ggolot</li>\n",
    "    <li>Numpy</li>\n",
    "    <li>matplotlib</li>\n",
    "</ol>"
   ]
  },
  {
   "cell_type": "markdown",
   "id": "448975c1-442d-47db-9e23-2c86a103367d",
   "metadata": {},
   "source": [
    "Data Science Tools\n",
    "<table>\n",
    "  <tr>\n",
    "    <th>Tools</th>\n",
    "  </tr>\n",
    "  <tr>\n",
    "    <td>IBM Watson</td>\n",
    "  </tr>\n",
    "  <tr>\n",
    "    <td>Hadoop</td>\n",
    "  </tr>\n",
    "  <tr>\n",
    "    <td>Spark</td>\n",
    "  </tr>\n",
    "    <tr>\n",
    "    <td>Jupyter Notebook</td>\n",
    "  </tr>\n",
    "</table>\n"
   ]
  },
  {
   "cell_type": "markdown",
   "id": "35da48e6-e7e0-481b-9119-91fc930c58dd",
   "metadata": {},
   "source": [
    "<h3>Below are a few examples of evaluating arithmetic expressions in Python.</h3>"
   ]
  },
  {
   "cell_type": "code",
   "execution_count": 7,
   "id": "20fb2e2d-8813-406f-8b61-8a93953be05b",
   "metadata": {
    "tags": []
   },
   "outputs": [
    {
     "data": {
      "text/plain": [
       "17"
      ]
     },
     "execution_count": 7,
     "metadata": {},
     "output_type": "execute_result"
    }
   ],
   "source": [
    "#This a simple arithmetic expression to mutiply then add integers\n",
    "(3*4)+5"
   ]
  },
  {
   "cell_type": "code",
   "execution_count": 8,
   "id": "75591d09-52f3-4fcb-9f2d-610a0b19af74",
   "metadata": {
    "tags": []
   },
   "outputs": [
    {
     "data": {
      "text/plain": [
       "4.0"
      ]
     },
     "execution_count": 8,
     "metadata": {},
     "output_type": "execute_result"
    }
   ],
   "source": [
    "#This will convert 200 minutes to hours by diving by 60\n",
    "200/50"
   ]
  },
  {
   "cell_type": "markdown",
   "id": "ccfd9341-de09-440b-95dd-8d8ef22d8979",
   "metadata": {
    "tags": []
   },
   "source": [
    "<b><strong>Objectives:</strong></b>\n",
    "<ul>\n",
    "    <li>List popular languages for Data Science</li>\n",
    "    <li>Commonly used libraries used by Data Scientists</li>\n",
    "    <li>Evaluating arithmetic expressions</li>\n",
    "</ul>"
   ]
  },
  {
   "cell_type": "markdown",
   "id": "982ac2fd-dae7-4d01-94cb-c409c6209159",
   "metadata": {},
   "source": [
    "<h2>Author</h2>\n",
    "Hamza Mehdi Khan"
   ]
  }
 ],
 "metadata": {
  "kernelspec": {
   "display_name": "Python",
   "language": "python",
   "name": "conda-env-python-py"
  },
  "language_info": {
   "codemirror_mode": {
    "name": "ipython",
    "version": 3
   },
   "file_extension": ".py",
   "mimetype": "text/x-python",
   "name": "python",
   "nbconvert_exporter": "python",
   "pygments_lexer": "ipython3",
   "version": "3.7.12"
  }
 },
 "nbformat": 4,
 "nbformat_minor": 5
}
